{
 "cells": [
  {
   "cell_type": "code",
   "execution_count": 7,
   "id": "c706849a-00ef-4e24-b50a-7c2f498fbc10",
   "metadata": {},
   "outputs": [],
   "source": [
    "import pandas as pd\n",
    "from selenium import webdriver\n",
    "import time"
   ]
  },
  {
   "cell_type": "code",
   "execution_count": 8,
   "id": "c6c221f1-5269-47b0-91a0-8b214a08701e",
   "metadata": {},
   "outputs": [],
   "source": [
    "df = pd.read_csv('datos.csv', sep=';')"
   ]
  },
  {
   "cell_type": "code",
   "execution_count": 9,
   "id": "441ca199",
   "metadata": {},
   "outputs": [],
   "source": [
    "sex_dict = {\n",
    "\n",
    "    'Femenino': '//*[@id=\"i17\"]/div[3]/div',\n",
    "    'Masculino': '//*[@id=\"i20\"]/div[3]/div',\n",
    "    'Otro': '//*[@id=\"i23\"]/div[3]/div'\n",
    "    \n",
    "}"
   ]
  },
  {
   "cell_type": "code",
   "execution_count": 10,
   "id": "c016dbfa",
   "metadata": {},
   "outputs": [],
   "source": [
    "category_dict = {\n",
    "\n",
    "    'Retail': '//*[@id=\"mG61Hd\"]/div[2]/div/div[2]/div[5]/div/div/div[2]/div/div[2]/div[3]',\n",
    "    'Salud': '//*[@id=\"mG61Hd\"]/div[2]/div/div[2]/div[5]/div/div/div[2]/div/div[2]/div[4]',\n",
    "    'Educación': '//*[@id=\"mG61Hd\"]/div[2]/div/div[2]/div[5]/div/div/div[2]/div/div[2]/div[5]',\n",
    "    'Transporte': '//*[@id=\"mG61Hd\"]/div[2]/div/div[2]/div[5]/div/div/div[2]/div/div[2]/div[6]'\n",
    "\n",
    "}"
   ]
  },
  {
   "cell_type": "code",
   "execution_count": 11,
   "id": "84ea84f3",
   "metadata": {},
   "outputs": [],
   "source": [
    "driver = webdriver.Edge()\n",
    "\n",
    "for row, data in df.iterrows():\n",
    "    \n",
    "    name = data['Nombre']\n",
    "    surname = data['Apellido paterno']\n",
    "    lastname = data['Apellido materno']\n",
    "    sex = data['Sexo']\n",
    "    age = data['Edad']\n",
    "    category = data['Rubro']\n",
    "\n",
    "    driver.get('https://forms.gle/m8B5xc4iPLR392fg7') # Open form\n",
    "    time.sleep(1)\n",
    "    driver.find_element('xpath', '//*[@id=\"mG61Hd\"]/div[2]/div/div[2]/div[1]/div/div/div[2]/div/div[1]/div/div[1]/input').send_keys(name) # Insert Name\n",
    "    driver.find_element('xpath', '//*[@id=\"mG61Hd\"]/div[2]/div/div[2]/div[2]/div/div/div[2]/div/div[1]/div/div[1]/input').send_keys(surname) # Insert surname\n",
    "    driver.find_element('xpath', '//*[@id=\"mG61Hd\"]/div[2]/div/div[2]/div[3]/div/div/div[2]/div/div[1]/div/div[1]/input').send_keys(lastname) # Insert lastname\n",
    "    driver.find_element('xpath', sex_dict[sex]).click() # Insert sex\n",
    "    time.sleep(1)\n",
    "    driver.find_element('xpath', '//*[@id=\"mG61Hd\"]/div[2]/div/div[2]/div[5]/div/div/div[2]/div/div[1]/div[1]/div[1]/span').click() # Open list category\n",
    "    time.sleep(1)\n",
    "    driver.find_element('xpath', category_dict[category]).click() # Select category\n",
    "    driver.find_element('xpath', '//*[@id=\"mG61Hd\"]/div[2]/div/div[3]/div[1]/div[1]/div/span/span').click() # Send form"
   ]
  },
  {
   "cell_type": "code",
   "execution_count": 12,
   "id": "9e6a14cd",
   "metadata": {},
   "outputs": [],
   "source": [
    "driver.quit()"
   ]
  }
 ],
 "metadata": {
  "kernelspec": {
   "display_name": "Python 3.10.6 64-bit",
   "language": "python",
   "name": "python3"
  },
  "language_info": {
   "codemirror_mode": {
    "name": "ipython",
    "version": 3
   },
   "file_extension": ".py",
   "mimetype": "text/x-python",
   "name": "python",
   "nbconvert_exporter": "python",
   "pygments_lexer": "ipython3",
   "version": "3.10.6"
  },
  "vscode": {
   "interpreter": {
    "hash": "369f2c481f4da34e4445cda3fffd2e751bd1c4d706f27375911949ba6bb62e1c"
   }
  }
 },
 "nbformat": 4,
 "nbformat_minor": 5
}
